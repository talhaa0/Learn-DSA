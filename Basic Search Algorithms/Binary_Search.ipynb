{
 "cells": [
  {
   "cell_type": "markdown",
   "id": "1b49ec0f",
   "metadata": {},
   "source": [
    "# Binary Search"
   ]
  },
  {
   "cell_type": "code",
   "execution_count": 12,
   "id": "32b3cc67",
   "metadata": {},
   "outputs": [],
   "source": [
    "def binarySearch(arr,value):\n",
    "    left=0\n",
    "    right=len(arr)-1\n",
    "\n",
    "    while left<=right:\n",
    "        mid = (left+right)//2\n",
    "        if arr[mid]==value:\n",
    "            return mid\n",
    "        elif arr[mid]<value:\n",
    "            left=mid+1\n",
    "        else:\n",
    "            right=mid-1\n",
    "    return -1"
   ]
  },
  {
   "cell_type": "code",
   "execution_count": null,
   "id": "a5580e44",
   "metadata": {},
   "outputs": [],
   "source": [
    "list = [1, 3, 5, 7, 9, 11]"
   ]
  },
  {
   "cell_type": "code",
   "execution_count": 13,
   "id": "10c8e633",
   "metadata": {},
   "outputs": [
    {
     "name": "stdout",
     "output_type": "stream",
     "text": [
      "4\n",
      "-1\n"
     ]
    }
   ],
   "source": [
    "print(binarySearch(list,9))\n",
    "print(binarySearch(list,99))"
   ]
  }
 ],
 "metadata": {
  "kernelspec": {
   "display_name": "base",
   "language": "python",
   "name": "python3"
  },
  "language_info": {
   "codemirror_mode": {
    "name": "ipython",
    "version": 3
   },
   "file_extension": ".py",
   "mimetype": "text/x-python",
   "name": "python",
   "nbconvert_exporter": "python",
   "pygments_lexer": "ipython3",
   "version": "3.12.7"
  }
 },
 "nbformat": 4,
 "nbformat_minor": 5
}
