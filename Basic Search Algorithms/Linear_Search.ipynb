{
 "cells": [
  {
   "cell_type": "markdown",
   "id": "ad449374",
   "metadata": {},
   "source": [
    "## Linear Search Algorithms"
   ]
  },
  {
   "cell_type": "markdown",
   "id": "23ecf551",
   "metadata": {},
   "source": [
    "### 1. Code"
   ]
  },
  {
   "cell_type": "code",
   "execution_count": 1,
   "id": "296329f7",
   "metadata": {},
   "outputs": [],
   "source": [
    "def Linear_Search(lst, value):\n",
    "    for i in range(len(lst)):\n",
    "        if lst[i]== value:\n",
    "            return i\n",
    "    return -1"
   ]
  },
  {
   "cell_type": "code",
   "execution_count": 2,
   "id": "88e53945",
   "metadata": {},
   "outputs": [],
   "source": [
    "List= [10,7,21,44,21,74,12,91,9771]"
   ]
  },
  {
   "cell_type": "code",
   "execution_count": 6,
   "id": "397a6c03",
   "metadata": {},
   "outputs": [
    {
     "data": {
      "text/plain": [
       "5"
      ]
     },
     "execution_count": 6,
     "metadata": {},
     "output_type": "execute_result"
    }
   ],
   "source": [
    "Linear_Search(List,74)"
   ]
  },
  {
   "cell_type": "code",
   "execution_count": 5,
   "id": "9e12e626",
   "metadata": {},
   "outputs": [
    {
     "data": {
      "text/plain": [
       "-1"
      ]
     },
     "execution_count": 5,
     "metadata": {},
     "output_type": "execute_result"
    }
   ],
   "source": [
    "Linear_Search(List,222)"
   ]
  },
  {
   "cell_type": "markdown",
   "id": "2b498a20",
   "metadata": {},
   "source": [
    "### 2. Code"
   ]
  },
  {
   "cell_type": "code",
   "execution_count": null,
   "id": "b2d1aa18",
   "metadata": {},
   "outputs": [],
   "source": [
    "def Linear_Search2(lst,value):\n",
    "    x=[]\n",
    "    for i, val in enumerate(lst): \n",
    "        if val== value:\n",
    "            x.append(i)\n",
    "    return x if len(x)!=0 else -1\n",
    "    "
   ]
  },
  {
   "cell_type": "code",
   "execution_count": 11,
   "id": "0e18ea5a",
   "metadata": {},
   "outputs": [],
   "source": [
    "List2= [10,7,21,44,21,74,12,91,9771,213,55,29,0,1,23,10]"
   ]
  },
  {
   "cell_type": "code",
   "execution_count": 12,
   "id": "4c9158ce",
   "metadata": {},
   "outputs": [
    {
     "data": {
      "text/plain": [
       "[0, 15]"
      ]
     },
     "execution_count": 12,
     "metadata": {},
     "output_type": "execute_result"
    }
   ],
   "source": [
    "Linear_Search2(List2,10)"
   ]
  },
  {
   "cell_type": "code",
   "execution_count": 14,
   "id": "d0fa8661",
   "metadata": {},
   "outputs": [
    {
     "data": {
      "text/plain": [
       "-1"
      ]
     },
     "execution_count": 14,
     "metadata": {},
     "output_type": "execute_result"
    }
   ],
   "source": [
    "Linear_Search2(List2,9)"
   ]
  }
 ],
 "metadata": {
  "kernelspec": {
   "display_name": "base",
   "language": "python",
   "name": "python3"
  },
  "language_info": {
   "codemirror_mode": {
    "name": "ipython",
    "version": 3
   },
   "file_extension": ".py",
   "mimetype": "text/x-python",
   "name": "python",
   "nbconvert_exporter": "python",
   "pygments_lexer": "ipython3",
   "version": "3.12.7"
  }
 },
 "nbformat": 4,
 "nbformat_minor": 5
}
