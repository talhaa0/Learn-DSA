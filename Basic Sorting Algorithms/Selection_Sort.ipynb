{
 "cells": [
  {
   "cell_type": "markdown",
   "id": "3e53ab0d",
   "metadata": {},
   "source": [
    "# Selection Sort"
   ]
  },
  {
   "cell_type": "code",
   "execution_count": 14,
   "id": "671415e3",
   "metadata": {},
   "outputs": [],
   "source": [
    "def SelectionSort(lst):\n",
    "    n=len(lst)\n",
    "    for i in range(n):\n",
    "        min=i\n",
    "\n",
    "        for j in range(i+1,n):\n",
    "            if lst[min]>lst[j]:\n",
    "                min=j\n",
    "        if min!=i:\n",
    "            lst[i],lst[min]=lst[min],lst[i]\n",
    "    return lst"
   ]
  },
  {
   "cell_type": "code",
   "execution_count": null,
   "id": "9cf2e074",
   "metadata": {},
   "outputs": [
    {
     "data": {
      "text/plain": [
       "[11, 12, 22, 25, 64]"
      ]
     },
     "execution_count": 15,
     "metadata": {},
     "output_type": "execute_result"
    }
   ],
   "source": [
    "test = [64, 25, 12, 22, 11]\n",
    "SelectionSort(test)"
   ]
  }
 ],
 "metadata": {
  "kernelspec": {
   "display_name": "base",
   "language": "python",
   "name": "python3"
  },
  "language_info": {
   "codemirror_mode": {
    "name": "ipython",
    "version": 3
   },
   "file_extension": ".py",
   "mimetype": "text/x-python",
   "name": "python",
   "nbconvert_exporter": "python",
   "pygments_lexer": "ipython3",
   "version": "3.12.7"
  }
 },
 "nbformat": 4,
 "nbformat_minor": 5
}
