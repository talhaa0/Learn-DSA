{
 "cells": [
  {
   "cell_type": "markdown",
   "id": "f8d097b7",
   "metadata": {},
   "source": [
    "# Insertion Sort"
   ]
  },
  {
   "cell_type": "code",
   "execution_count": 25,
   "id": "afde5d56",
   "metadata": {},
   "outputs": [],
   "source": [
    "def Insert_Sort(lst):\n",
    "    for i in range(1,len(lst)):\n",
    "        key=lst[i]\n",
    "        j=i-1\n",
    "        while j>=0 and key<lst[j]:\n",
    "            lst[j+1]=lst[j]\n",
    "            j-=1\n",
    "        lst[j+1]=key\n",
    "    return lst"
   ]
  },
  {
   "cell_type": "code",
   "execution_count": 26,
   "id": "7be9ccf7",
   "metadata": {},
   "outputs": [],
   "source": [
    "test1 = [5, 3, 4, 1]              \n",
    "test2 = [1, 2, 3, 4, 5]           \n",
    "test3 = [5, 4, 3, 2, 1]           \n",
    "test4 = [2, 2, 1, 3, 1]"
   ]
  },
  {
   "cell_type": "code",
   "execution_count": 27,
   "id": "9b54babe",
   "metadata": {},
   "outputs": [
    {
     "data": {
      "text/plain": [
       "[1, 3, 4, 5]"
      ]
     },
     "execution_count": 27,
     "metadata": {},
     "output_type": "execute_result"
    }
   ],
   "source": [
    "Insert_Sort(test1)"
   ]
  },
  {
   "cell_type": "code",
   "execution_count": 28,
   "id": "e8471d29",
   "metadata": {},
   "outputs": [
    {
     "data": {
      "text/plain": [
       "[1, 2, 3, 4, 5]"
      ]
     },
     "execution_count": 28,
     "metadata": {},
     "output_type": "execute_result"
    }
   ],
   "source": [
    "Insert_Sort(test2)"
   ]
  },
  {
   "cell_type": "code",
   "execution_count": 29,
   "id": "03d87816",
   "metadata": {},
   "outputs": [
    {
     "data": {
      "text/plain": [
       "[1, 2, 3, 4, 5]"
      ]
     },
     "execution_count": 29,
     "metadata": {},
     "output_type": "execute_result"
    }
   ],
   "source": [
    "Insert_Sort(test3)"
   ]
  },
  {
   "cell_type": "code",
   "execution_count": 30,
   "id": "8059a289",
   "metadata": {},
   "outputs": [
    {
     "data": {
      "text/plain": [
       "[1, 1, 2, 2, 3]"
      ]
     },
     "execution_count": 30,
     "metadata": {},
     "output_type": "execute_result"
    }
   ],
   "source": [
    "Insert_Sort(test4)"
   ]
  }
 ],
 "metadata": {
  "kernelspec": {
   "display_name": "base",
   "language": "python",
   "name": "python3"
  },
  "language_info": {
   "codemirror_mode": {
    "name": "ipython",
    "version": 3
   },
   "file_extension": ".py",
   "mimetype": "text/x-python",
   "name": "python",
   "nbconvert_exporter": "python",
   "pygments_lexer": "ipython3",
   "version": "3.12.7"
  }
 },
 "nbformat": 4,
 "nbformat_minor": 5
}
