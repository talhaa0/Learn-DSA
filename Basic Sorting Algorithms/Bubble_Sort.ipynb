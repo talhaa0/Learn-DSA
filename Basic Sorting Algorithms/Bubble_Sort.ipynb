{
 "cells": [
  {
   "cell_type": "markdown",
   "id": "3f50e5de",
   "metadata": {},
   "source": [
    "# Bubble Sort"
   ]
  },
  {
   "cell_type": "code",
   "execution_count": 7,
   "id": "c6cea069",
   "metadata": {},
   "outputs": [],
   "source": [
    "def BubbleSort(lst):\n",
    "    n=len(lst)\n",
    "\n",
    "    for i in range(n):\n",
    "        for j in range(n-1-i):\n",
    "            if lst[j]>lst[j+1]:\n",
    "                lst[j],lst[j+1]=lst[j+1],lst[j]\n",
    "    return lst"
   ]
  },
  {
   "cell_type": "code",
   "execution_count": null,
   "id": "28a84b97",
   "metadata": {},
   "outputs": [
    {
     "data": {
      "text/plain": [
       "[0, 1, 2, 4, 5, 8, 9, 9, 10, 22]"
      ]
     },
     "execution_count": 8,
     "metadata": {},
     "output_type": "execute_result"
    }
   ],
   "source": [
    "list=[0,9,10,8,22,2,5,1,4,9]\n",
    "BubbleSort(list)"
   ]
  }
 ],
 "metadata": {
  "kernelspec": {
   "display_name": "base",
   "language": "python",
   "name": "python3"
  },
  "language_info": {
   "codemirror_mode": {
    "name": "ipython",
    "version": 3
   },
   "file_extension": ".py",
   "mimetype": "text/x-python",
   "name": "python",
   "nbconvert_exporter": "python",
   "pygments_lexer": "ipython3",
   "version": "3.12.7"
  }
 },
 "nbformat": 4,
 "nbformat_minor": 5
}
